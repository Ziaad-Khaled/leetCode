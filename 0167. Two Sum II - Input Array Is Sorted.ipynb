{
 "cells": [
  {
   "cell_type": "code",
   "execution_count": 2,
   "metadata": {},
   "outputs": [],
   "source": [
    "from typing import List"
   ]
  },
  {
   "cell_type": "code",
   "execution_count": 18,
   "metadata": {},
   "outputs": [],
   "source": [
    "def twoSum(numbers: List[int], target: int) -> List[int]:\n",
    "    low_pointer = 0\n",
    "    high_pointer = len(numbers)-1\n",
    "    while(low_pointer < high_pointer):\n",
    "        first_number = numbers[low_pointer]\n",
    "        second_number = numbers[high_pointer]\n",
    "        if first_number + second_number == target:\n",
    "            return [low_pointer+1, high_pointer+1]\n",
    "        elif first_number + second_number > target:\n",
    "            high_pointer -= 1\n",
    "        else:\n",
    "            low_pointer += 1\n",
    "    return -1"
   ]
  },
  {
   "cell_type": "code",
   "execution_count": 19,
   "metadata": {},
   "outputs": [
    {
     "name": "stdout",
     "output_type": "stream",
     "text": [
      "[1, 2]\n"
     ]
    }
   ],
   "source": [
    "print(twoSum([2,7,8,15], 9))"
   ]
  }
 ],
 "metadata": {
  "kernelspec": {
   "display_name": "Python 3",
   "language": "python",
   "name": "python3"
  },
  "language_info": {
   "codemirror_mode": {
    "name": "ipython",
    "version": 3
   },
   "file_extension": ".py",
   "mimetype": "text/x-python",
   "name": "python",
   "nbconvert_exporter": "python",
   "pygments_lexer": "ipython3",
   "version": "3.9.12"
  },
  "orig_nbformat": 4
 },
 "nbformat": 4,
 "nbformat_minor": 2
}

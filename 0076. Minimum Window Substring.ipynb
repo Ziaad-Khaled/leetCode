{
 "cells": [
  {
   "cell_type": "code",
   "execution_count": 9,
   "metadata": {},
   "outputs": [],
   "source": [
    "import copy"
   ]
  },
  {
   "cell_type": "code",
   "execution_count": 10,
   "metadata": {},
   "outputs": [],
   "source": [
    "def stringCharactersToDict(t:str):\n",
    "    char_count = {}\n",
    "    for char in t:\n",
    "        if char in char_count:\n",
    "            char_count[char] += 1\n",
    "        else:\n",
    "            char_count[char] = 1\n",
    "    return char_count"
   ]
  },
  {
   "cell_type": "code",
   "execution_count": 11,
   "metadata": {},
   "outputs": [],
   "source": [
    "def compare_char_counts(dict1, dict2):\n",
    "    for char, count1 in dict1.items():\n",
    "        if char in dict2 and count1 >= dict2[char]:\n",
    "            continue\n",
    "        else:\n",
    "            return False\n",
    "    return True"
   ]
  },
  {
   "cell_type": "code",
   "execution_count": 35,
   "metadata": {},
   "outputs": [],
   "source": [
    "def minWindow(s: str, t: str) -> str:\n",
    "    if t == \"\":\n",
    "        return \"\"\n",
    "    l,r = 0, 0\n",
    "    min_substring, min_count = \"\", float(\"infinity\")\n",
    "    char_count = stringCharactersToDict(t)\n",
    "    window = {}\n",
    "    have, need = 0, len(char_count)\n",
    "    for r in range(len(s)):\n",
    "        if s[r] in char_count:\n",
    "            if s[r] in window :\n",
    "                window[s[r]] += 1\n",
    "            else:\n",
    "                window[s[r]] = 1\n",
    "            if window[s[r]] == char_count[s[r]]:\n",
    "                have += 1\n",
    "        \n",
    "        while have == need:\n",
    "            if r - l + 1 < min_count:\n",
    "                min_count = r - l + 1\n",
    "                min_substring = s[l:r+1]\n",
    "            if s[l] in char_count:\n",
    "                window[s[l]] -= 1\n",
    "                if window[s[l]] < char_count[s[l]]:\n",
    "                    have -= 1\n",
    "            l += 1\n",
    "    return min_substring\n",
    "    \n",
    "        \n",
    "\n",
    "                    "
   ]
  },
  {
   "cell_type": "code",
   "execution_count": 36,
   "metadata": {},
   "outputs": [
    {
     "data": {
      "text/plain": [
       "'BANC'"
      ]
     },
     "execution_count": 36,
     "metadata": {},
     "output_type": "execute_result"
    }
   ],
   "source": [
    "minWindow(\"ADOBECODEBANC\", \"ABC\")"
   ]
  }
 ],
 "metadata": {
  "kernelspec": {
   "display_name": "base",
   "language": "python",
   "name": "python3"
  },
  "language_info": {
   "codemirror_mode": {
    "name": "ipython",
    "version": 3
   },
   "file_extension": ".py",
   "mimetype": "text/x-python",
   "name": "python",
   "nbconvert_exporter": "python",
   "pygments_lexer": "ipython3",
   "version": "3.9.6"
  },
  "orig_nbformat": 4
 },
 "nbformat": 4,
 "nbformat_minor": 2
}

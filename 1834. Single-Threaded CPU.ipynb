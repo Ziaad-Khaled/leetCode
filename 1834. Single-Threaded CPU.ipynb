{
 "cells": [
  {
   "cell_type": "code",
   "execution_count": 12,
   "metadata": {},
   "outputs": [],
   "source": [
    "import sortedcontainers\n",
    "import heapq\n",
    "def getOrder(tasks):\n",
    "    hashtable = sortedcontainers.SortedDict()\n",
    "\n",
    "# Append each element in the 2D list to the hashtable\n",
    "    for i,element in enumerate(tasks):\n",
    "        hashtable[i] = element\n",
    "    \n",
    "    heapq.heapify(tasks, key=lambda x: x[0])"
   ]
  },
  {
   "cell_type": "code",
   "execution_count": 13,
   "metadata": {},
   "outputs": [
    {
     "name": "stdout",
     "output_type": "stream",
     "text": [
      "True\n"
     ]
    }
   ],
   "source": [
    "getOrder([[7,10],[7,12],[7,5],[7,4],[7,2]])"
   ]
  }
 ],
 "metadata": {
  "kernelspec": {
   "display_name": "base",
   "language": "python",
   "name": "python3"
  },
  "language_info": {
   "codemirror_mode": {
    "name": "ipython",
    "version": 3
   },
   "file_extension": ".py",
   "mimetype": "text/x-python",
   "name": "python",
   "nbconvert_exporter": "python",
   "pygments_lexer": "ipython3",
   "version": "3.9.12"
  },
  "orig_nbformat": 4,
  "vscode": {
   "interpreter": {
    "hash": "b6cb3eed22df4627d56e8f4636dde4254ca6cf3ba2a6f7035fabb12fe7b8bfdb"
   }
  }
 },
 "nbformat": 4,
 "nbformat_minor": 2
}

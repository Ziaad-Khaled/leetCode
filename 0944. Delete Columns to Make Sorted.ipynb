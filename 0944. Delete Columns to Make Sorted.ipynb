{
 "cells": [
  {
   "cell_type": "code",
   "execution_count": 38,
   "metadata": {},
   "outputs": [],
   "source": [
    "def minDeletionSize(strs):\n",
    "    count = 0\n",
    "    transposed = []\n",
    "\n",
    "    for i in range(len(strs[0])):\n",
    "        transposed.append(\"\".join(strs[j][i] if i < len(strs[j]) else \" \" for j in range(len(strs))))\n",
    "\n",
    "    print(transposed)\n",
    "    for str in transposed:\n",
    "        str_lst = sorted(str)\n",
    "        if str_lst != list(str):\n",
    "            count += 1\n",
    "    return count"
   ]
  },
  {
   "cell_type": "code",
   "execution_count": 39,
   "metadata": {},
   "outputs": [
    {
     "name": "stdout",
     "output_type": "stream",
     "text": [
      "['rfg', 'ruu', 'jrz', 'ktm']\n"
     ]
    },
    {
     "data": {
      "text/plain": [
       "2"
      ]
     },
     "execution_count": 39,
     "metadata": {},
     "output_type": "execute_result"
    }
   ],
   "source": [
    "minDeletionSize([\"rrjk\",\"furt\",\"guzm\"])"
   ]
  }
 ],
 "metadata": {
  "kernelspec": {
   "display_name": "Python 3",
   "language": "python",
   "name": "python3"
  },
  "language_info": {
   "codemirror_mode": {
    "name": "ipython",
    "version": 3
   },
   "file_extension": ".py",
   "mimetype": "text/x-python",
   "name": "python",
   "nbconvert_exporter": "python",
   "pygments_lexer": "ipython3",
   "version": "3.9.6"
  },
  "orig_nbformat": 4,
  "vscode": {
   "interpreter": {
    "hash": "de0e203ef7e473aff7f39e62ea6b711a3fd9a6781169f839008b20faea9415fd"
   }
  }
 },
 "nbformat": 4,
 "nbformat_minor": 2
}

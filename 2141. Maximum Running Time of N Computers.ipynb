{
 "cells": [
  {
   "cell_type": "code",
   "execution_count": 3,
   "metadata": {},
   "outputs": [],
   "source": [
    "from typing import List"
   ]
  },
  {
   "cell_type": "code",
   "execution_count": 4,
   "metadata": {},
   "outputs": [],
   "source": [
    "def maxRunTime(n: int, batteries: List[int]) -> int:\n",
    "# Sort the batteries in ascending order\n",
    "        batteries.sort()\n",
    "        \n",
    "        # Calculate the extra reservoir by summing up the smallest batteries\n",
    "        extra = sum(batteries[:-n])\n",
    "        \n",
    "        # Take only the n largest batteries for further processing\n",
    "        batteries = batteries[-n:]\n",
    "        \n",
    "        # Initialize variables\n",
    "        ans = 0\n",
    "        prefix_sum = 0\n",
    "        \n",
    "        # Loop through the batteries\n",
    "        for i, battery in enumerate(batteries):\n",
    "            # Add the current battery to the prefix sum\n",
    "            prefix_sum += battery\n",
    "            \n",
    "            # Check if there is another battery available\n",
    "            if i + 1 < len(batteries):\n",
    "                # Check if adding the next battery would result in more running time\n",
    "                if batteries[i + 1] * (i + 1) - prefix_sum > extra:\n",
    "                    # We can run (i + 1) computers simultaneously for the calculated duration\n",
    "                    return (prefix_sum + extra) // (i + 1)\n",
    "        \n",
    "        # We have enough batteries to run all n computers\n",
    "        # Return the maximum running time achievable\n",
    "        return (prefix_sum + extra) // n"
   ]
  }
 ],
 "metadata": {
  "kernelspec": {
   "display_name": "Python 3",
   "language": "python",
   "name": "python3"
  },
  "language_info": {
   "codemirror_mode": {
    "name": "ipython",
    "version": 3
   },
   "file_extension": ".py",
   "mimetype": "text/x-python",
   "name": "python",
   "nbconvert_exporter": "python",
   "pygments_lexer": "ipython3",
   "version": "3.9.6"
  },
  "orig_nbformat": 4
 },
 "nbformat": 4,
 "nbformat_minor": 2
}

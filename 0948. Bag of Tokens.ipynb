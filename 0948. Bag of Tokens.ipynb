{
 "cells": [
  {
   "cell_type": "code",
   "execution_count": 1,
   "metadata": {},
   "outputs": [],
   "source": [
    "from typing import List"
   ]
  },
  {
   "cell_type": "code",
   "execution_count": 26,
   "metadata": {},
   "outputs": [],
   "source": [
    "def bagOfTokensScore(tokens: List[int], power: int) -> int:\n",
    "    tokens = sorted(tokens)\n",
    "    l,r = 0, len(tokens)-1\n",
    "    max_score = 0\n",
    "    score = 0\n",
    "    while r >= l:\n",
    "        if tokens[l] <= power:\n",
    "            power -= tokens[l]\n",
    "            score += 1\n",
    "            l += 1\n",
    "            if score > max_score:\n",
    "                max_score = score\n",
    "        elif score > 0 :\n",
    "            power += tokens[r]\n",
    "            score -= 1\n",
    "            r -= 1\n",
    "        else:\n",
    "            return max_score\n",
    "    return max_score"
   ]
  },
  {
   "cell_type": "code",
   "execution_count": 27,
   "metadata": {},
   "outputs": [
    {
     "data": {
      "text/plain": [
       "1"
      ]
     },
     "execution_count": 27,
     "metadata": {},
     "output_type": "execute_result"
    }
   ],
   "source": [
    "bagOfTokensScore([100,200], 150)"
   ]
  }
 ],
 "metadata": {
  "kernelspec": {
   "display_name": "base",
   "language": "python",
   "name": "python3"
  },
  "language_info": {
   "codemirror_mode": {
    "name": "ipython",
    "version": 3
   },
   "file_extension": ".py",
   "mimetype": "text/x-python",
   "name": "python",
   "nbconvert_exporter": "python",
   "pygments_lexer": "ipython3",
   "version": "3.9.13"
  },
  "orig_nbformat": 4
 },
 "nbformat": 4,
 "nbformat_minor": 2
}

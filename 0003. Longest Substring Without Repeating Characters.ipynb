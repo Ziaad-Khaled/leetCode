{
 "cells": [
  {
   "cell_type": "code",
   "execution_count": 36,
   "metadata": {},
   "outputs": [],
   "source": [
    "def lengthOfLongestSubstring(s: str) -> int:\n",
    "    if len(s) == 0:\n",
    "        return 0\n",
    "    l = 0\n",
    "    r = 1\n",
    "    max = 1\n",
    "    current_length = 1\n",
    "    characters = {s[l]}\n",
    "    while r < len(s):\n",
    "        if s[r] in characters:\n",
    "            l += 1\n",
    "            r = l\n",
    "            characters = {s[r]}\n",
    "            if current_length > max:\n",
    "                max = current_length\n",
    "            current_length = 1\n",
    "        else:\n",
    "            characters.add(s[r])\n",
    "            current_length += 1\n",
    "        r += 1\n",
    "        if current_length > max:\n",
    "                max = current_length\n",
    "    return max\n"
   ]
  },
  {
   "cell_type": "code",
   "execution_count": 38,
   "metadata": {},
   "outputs": [
    {
     "data": {
      "text/plain": [
       "2"
      ]
     },
     "execution_count": 38,
     "metadata": {},
     "output_type": "execute_result"
    }
   ],
   "source": [
    "lengthOfLongestSubstring(\"ava\")"
   ]
  }
 ],
 "metadata": {
  "kernelspec": {
   "display_name": "base",
   "language": "python",
   "name": "python3"
  },
  "language_info": {
   "codemirror_mode": {
    "name": "ipython",
    "version": 3
   },
   "file_extension": ".py",
   "mimetype": "text/x-python",
   "name": "python",
   "nbconvert_exporter": "python",
   "pygments_lexer": "ipython3",
   "version": "3.9.13"
  },
  "orig_nbformat": 4
 },
 "nbformat": 4,
 "nbformat_minor": 2
}

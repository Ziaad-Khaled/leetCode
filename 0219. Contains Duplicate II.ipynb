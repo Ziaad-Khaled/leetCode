{
 "cells": [
  {
   "cell_type": "code",
   "execution_count": 1,
   "metadata": {},
   "outputs": [],
   "source": [
    "from typing import List"
   ]
  },
  {
   "cell_type": "code",
   "execution_count": 18,
   "metadata": {},
   "outputs": [],
   "source": [
    "def containsNearbyDuplicate(nums: List[int], k: int) -> bool:\n",
    "    l,r = 0, 1\n",
    "    my_set = set()\n",
    "    my_set.add(nums[l])\n",
    "\n",
    "    while r <= k and r < len(nums):\n",
    "        if nums[r] in my_set:\n",
    "            return True\n",
    "        else:\n",
    "            my_set.add(nums[r])\n",
    "        r += 1\n",
    "    \n",
    "    while r < len(nums):\n",
    "        my_set.remove(nums[l])\n",
    "        if nums[r] in my_set:\n",
    "            return True\n",
    "        else:\n",
    "            my_set.add(nums[r])\n",
    "        r += 1\n",
    "        l += 1\n",
    "    return False"
   ]
  },
  {
   "cell_type": "code",
   "execution_count": 19,
   "metadata": {},
   "outputs": [
    {
     "data": {
      "text/plain": [
       "False"
      ]
     },
     "execution_count": 19,
     "metadata": {},
     "output_type": "execute_result"
    }
   ],
   "source": [
    "containsNearbyDuplicate([1,2,3,1,2,3], 2)"
   ]
  }
 ],
 "metadata": {
  "kernelspec": {
   "display_name": "base",
   "language": "python",
   "name": "python3"
  },
  "language_info": {
   "codemirror_mode": {
    "name": "ipython",
    "version": 3
   },
   "file_extension": ".py",
   "mimetype": "text/x-python",
   "name": "python",
   "nbconvert_exporter": "python",
   "pygments_lexer": "ipython3",
   "version": "3.9.13"
  },
  "orig_nbformat": 4
 },
 "nbformat": 4,
 "nbformat_minor": 2
}

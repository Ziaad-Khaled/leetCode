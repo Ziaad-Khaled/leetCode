{
 "cells": [
  {
   "cell_type": "code",
   "execution_count": 8,
   "metadata": {},
   "outputs": [],
   "source": [
    "def PredictTheWinner(self, A):\n",
    "    # Create a dictionary to store already calculated scores for specific states\n",
    "    memo = {}\n",
    "\n",
    "    # Define a recursive function to find the maximum score Player 1 can achieve\n",
    "    def maxscore(i, j):\n",
    "        # If the score for the current state (i, j) is already calculated, return it\n",
    "        if (i, j) in memo:\n",
    "            return memo[i, j]\n",
    "\n",
    "        # Base case: If there are no elements left in the array, return 0\n",
    "        if i > j:\n",
    "            return 0\n",
    "\n",
    "        # Calculate the score if Player 1 picks the first or last element of the remaining array\n",
    "        sA = A[i] + min(maxscore(i + 1, j - 1), maxscore(i + 2, j))\n",
    "        sB = A[j] + min(maxscore(i, j - 2), maxscore(i + 1, j - 1))\n",
    "\n",
    "        # Choose the maximum score between the two alternatives\n",
    "        score = max(sA, sB)\n",
    "\n",
    "        # Store the calculated score in the memo dictionary\n",
    "        memo[i, j] = score\n",
    "\n",
    "        # Return the maximum score for the current state (i, j)\n",
    "        return score\n",
    "\n",
    "    # Calculate the maximum score Player 1 can achieve starting from the first index (0) to the last index (len(A) - 1)\n",
    "    p1 = maxscore(0, len(A) - 1)\n",
    "\n",
    "    # Check if Player 1's score is greater than or equal to half of the total sum of the array\n",
    "    # If true, it means Player 1 can win, so return True; otherwise, return False\n",
    "    return p1 >= (sum(A) - p1)"
   ]
  }
 ],
 "metadata": {
  "kernelspec": {
   "display_name": "base",
   "language": "python",
   "name": "python3"
  },
  "language_info": {
   "codemirror_mode": {
    "name": "ipython",
    "version": 3
   },
   "file_extension": ".py",
   "mimetype": "text/x-python",
   "name": "python",
   "nbconvert_exporter": "python",
   "pygments_lexer": "ipython3",
   "version": "3.9.12"
  },
  "orig_nbformat": 4
 },
 "nbformat": 4,
 "nbformat_minor": 2
}

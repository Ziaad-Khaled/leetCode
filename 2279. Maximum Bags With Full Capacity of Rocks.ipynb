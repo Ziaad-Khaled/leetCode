{
 "cells": [
  {
   "cell_type": "code",
   "execution_count": 8,
   "metadata": {},
   "outputs": [],
   "source": [
    "import numpy as np\n",
    "def maximumBags(capacity, rocks, additionalRocks):\n",
    "    remaining_slots = np.subtract(capacity, rocks)\n",
    "    remaining_sorted = sorted(remaining_slots)\n",
    "    for i,n in enumerate(remaining_sorted):\n",
    "        if additionalRocks == 0:\n",
    "            break\n",
    "        if additionalRocks - n >= 0:\n",
    "            remaining_sorted[i] = 0\n",
    "            additionalRocks -= n\n",
    "    return remaining_sorted.count(0)\n",
    "    "
   ]
  },
  {
   "cell_type": "code",
   "execution_count": 11,
   "metadata": {},
   "outputs": [
    {
     "name": "stdout",
     "output_type": "stream",
     "text": [
      "[0, 2, 8]\n",
      "[0, 2, 8]\n",
      "[0, 0, 8]\n"
     ]
    },
    {
     "data": {
      "text/plain": [
       "3"
      ]
     },
     "execution_count": 11,
     "metadata": {},
     "output_type": "execute_result"
    }
   ],
   "source": [
    "maximumBags([10,2,2], [2,2,0], 100)"
   ]
  }
 ],
 "metadata": {
  "kernelspec": {
   "display_name": "Python 3",
   "language": "python",
   "name": "python3"
  },
  "language_info": {
   "codemirror_mode": {
    "name": "ipython",
    "version": 3
   },
   "file_extension": ".py",
   "mimetype": "text/x-python",
   "name": "python",
   "nbconvert_exporter": "python",
   "pygments_lexer": "ipython3",
   "version": "3.9.6"
  },
  "orig_nbformat": 4,
  "vscode": {
   "interpreter": {
    "hash": "de0e203ef7e473aff7f39e62ea6b711a3fd9a6781169f839008b20faea9415fd"
   }
  }
 },
 "nbformat": 4,
 "nbformat_minor": 2
}

{
 "cells": [
  {
   "cell_type": "code",
   "execution_count": 3,
   "metadata": {},
   "outputs": [],
   "source": [
    "from typing import List"
   ]
  },
  {
   "cell_type": "code",
   "execution_count": 44,
   "metadata": {},
   "outputs": [],
   "source": [
    "def distinct_values(arr):\n",
    "    return [item for index, item in enumerate(arr) if item not in arr[:index]]\n"
   ]
  },
  {
   "cell_type": "code",
   "execution_count": 45,
   "metadata": {},
   "outputs": [],
   "source": [
    "def threeSum(nums: List[int]) -> List[List[int]]:\n",
    "    nums = sorted(nums)\n",
    "    output = []\n",
    "    for i in range(0, len(nums)):\n",
    "        target = nums[i]\n",
    "        if i-1 != -1 and nums[i-1] == nums[i]:\n",
    "            continue\n",
    "        low_pointer = i+1\n",
    "        high_pointer = len(nums)-1\n",
    "        while(low_pointer < high_pointer):\n",
    "            first_number = nums[low_pointer]\n",
    "            second_number = nums[high_pointer]\n",
    "            if first_number + second_number + target == 0:\n",
    "                output.append([target, first_number, second_number])\n",
    "                high_pointer -= 1\n",
    "            elif first_number + second_number + target > 0:\n",
    "                high_pointer -= 1\n",
    "            else:\n",
    "                low_pointer += 1\n",
    "    return distinct_values(output)\n"
   ]
  },
  {
   "cell_type": "code",
   "execution_count": 47,
   "metadata": {},
   "outputs": [
    {
     "name": "stdout",
     "output_type": "stream",
     "text": [
      "[[0, 0, 0]]\n"
     ]
    }
   ],
   "source": [
    "print(threeSum([0,0,0,0]))"
   ]
  }
 ],
 "metadata": {
  "kernelspec": {
   "display_name": "base",
   "language": "python",
   "name": "python3"
  },
  "language_info": {
   "codemirror_mode": {
    "name": "ipython",
    "version": 3
   },
   "file_extension": ".py",
   "mimetype": "text/x-python",
   "name": "python",
   "nbconvert_exporter": "python",
   "pygments_lexer": "ipython3",
   "version": "3.9.12"
  },
  "orig_nbformat": 4
 },
 "nbformat": 4,
 "nbformat_minor": 2
}

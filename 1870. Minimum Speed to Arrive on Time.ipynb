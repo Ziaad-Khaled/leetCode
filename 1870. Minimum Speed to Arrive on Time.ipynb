{
 "cells": [
  {
   "cell_type": "code",
   "execution_count": 17,
   "metadata": {},
   "outputs": [],
   "source": [
    "def minSpeedOnTime(dist, hour):\n",
    "    if hour <= len(dist) - 1:\n",
    "            return -1\n",
    "    min, max = 1, 10 ** 7\n",
    "    while min < max:\n",
    "        mid = (min + max) // 2\n",
    "        if canArrive(dist, hour, mid):\n",
    "            max = mid\n",
    "        else:\n",
    "            min = mid + 1\n",
    "    return min"
   ]
  },
  {
   "cell_type": "code",
   "execution_count": 29,
   "metadata": {},
   "outputs": [],
   "source": [
    "def canArrive(dist, hour, speed):\n",
    "    res = 0\n",
    "    for i in range(len(dist) - 1):\n",
    "        res += ceil(dist[i] / speed)\n",
    "    res += dist[-1] / speed\n",
    "    return res <= hour"
   ]
  },
  {
   "cell_type": "code",
   "execution_count": 25,
   "metadata": {},
   "outputs": [],
   "source": [
    "def ceil(num):\n",
    "    return int(num) if num == int(num) else int(num) + 1"
   ]
  },
  {
   "cell_type": "code",
   "execution_count": 30,
   "metadata": {},
   "outputs": [
    {
     "data": {
      "text/plain": [
       "3"
      ]
     },
     "execution_count": 30,
     "metadata": {},
     "output_type": "execute_result"
    }
   ],
   "source": [
    "minSpeedOnTime([1,3,2], 2.7)"
   ]
  }
 ],
 "metadata": {
  "kernelspec": {
   "display_name": "Python 3",
   "language": "python",
   "name": "python3"
  },
  "language_info": {
   "codemirror_mode": {
    "name": "ipython",
    "version": 3
   },
   "file_extension": ".py",
   "mimetype": "text/x-python",
   "name": "python",
   "nbconvert_exporter": "python",
   "pygments_lexer": "ipython3",
   "version": "3.9.6"
  },
  "orig_nbformat": 4
 },
 "nbformat": 4,
 "nbformat_minor": 2
}

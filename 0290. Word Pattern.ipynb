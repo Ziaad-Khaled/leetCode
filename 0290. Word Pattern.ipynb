{
 "cells": [
  {
   "cell_type": "code",
   "execution_count": 30,
   "metadata": {},
   "outputs": [],
   "source": [
    "def wordPattern(pattern, s):\n",
    "    words = s.split(\" \")\n",
    "    if len(words) != len(pattern):\n",
    "        return False\n",
    "    hash_table = {}\n",
    "    hash_table_reversed = {}\n",
    "    for i,character in enumerate(pattern):\n",
    "        word = words[i]\n",
    "\n",
    "        if hash_table.get(character, None) == None and hash_table_reversed.get(words[i], None) == None:\n",
    "            hash_table[character] = words[i]\n",
    "            hash_table_reversed[words[i]] = character\n",
    "        elif hash_table.get(character, None) != words[i]:\n",
    "            return False\n",
    "        elif hash_table_reversed.get(words[i], None) != character:\n",
    "            return False\n",
    "    \n",
    "    return True"
   ]
  },
  {
   "cell_type": "code",
   "execution_count": 36,
   "metadata": {},
   "outputs": [
    {
     "data": {
      "text/plain": [
       "True"
      ]
     },
     "execution_count": 36,
     "metadata": {},
     "output_type": "execute_result"
    }
   ],
   "source": [
    "wordPattern(\"aab\", \"cat cat dog\")"
   ]
  }
 ],
 "metadata": {
  "kernelspec": {
   "display_name": "Python 3",
   "language": "python",
   "name": "python3"
  },
  "language_info": {
   "codemirror_mode": {
    "name": "ipython",
    "version": 3
   },
   "file_extension": ".py",
   "mimetype": "text/x-python",
   "name": "python",
   "nbconvert_exporter": "python",
   "pygments_lexer": "ipython3",
   "version": "3.9.6"
  },
  "orig_nbformat": 4,
  "vscode": {
   "interpreter": {
    "hash": "de0e203ef7e473aff7f39e62ea6b711a3fd9a6781169f839008b20faea9415fd"
   }
  }
 },
 "nbformat": 4,
 "nbformat_minor": 2
}

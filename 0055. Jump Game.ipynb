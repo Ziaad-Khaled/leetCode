{
 "cells": [
  {
   "cell_type": "code",
   "execution_count": 68,
   "metadata": {},
   "outputs": [],
   "source": [
    "def canJump(nums):\n",
    "        \"\"\"\n",
    "        :type nums: List[int]\n",
    "        :rtype: bool\n",
    "        \"\"\"\n",
    "        max_reach = nums[0]\n",
    "        target = len(nums) - 1\n",
    "        nums.pop()\n",
    "    \n",
    "        for i,n in enumerate(nums):\n",
    "            if i > max_reach:\n",
    "                return False\n",
    "            if n + i > max_reach:\n",
    "                max_reach = n + i\n",
    "            \n",
    "\n",
    "        if max_reach >=  target:\n",
    "                return True\n",
    "        return False"
   ]
  },
  {
   "cell_type": "code",
   "execution_count": 73,
   "metadata": {},
   "outputs": [
    {
     "data": {
      "text/plain": [
       "True"
      ]
     },
     "execution_count": 73,
     "metadata": {},
     "output_type": "execute_result"
    }
   ],
   "source": [
    "canJump([0])"
   ]
  }
 ],
 "metadata": {
  "kernelspec": {
   "display_name": "Python 3",
   "language": "python",
   "name": "python3"
  },
  "language_info": {
   "codemirror_mode": {
    "name": "ipython",
    "version": 3
   },
   "file_extension": ".py",
   "mimetype": "text/x-python",
   "name": "python",
   "nbconvert_exporter": "python",
   "pygments_lexer": "ipython3",
   "version": "3.9.6"
  },
  "orig_nbformat": 4,
  "vscode": {
   "interpreter": {
    "hash": "de0e203ef7e473aff7f39e62ea6b711a3fd9a6781169f839008b20faea9415fd"
   }
  }
 },
 "nbformat": 4,
 "nbformat_minor": 2
}

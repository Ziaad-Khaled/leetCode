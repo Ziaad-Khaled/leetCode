{
 "cells": [
  {
   "cell_type": "code",
   "execution_count": 12,
   "metadata": {},
   "outputs": [],
   "source": [
    "def removeElement(nums, val):\n",
    "        \"\"\"\n",
    "        :type nums: List[int]\n",
    "        :type val: int\n",
    "        :rtype: int\n",
    "        \"\"\"\n",
    "        changed = 0\n",
    "        i = 0\n",
    "        while i < len(nums):\n",
    "            if nums[i] == val:\n",
    "                nums[i] = nums[-1 - changed]\n",
    "                nums[-1 - changed] = '_'\n",
    "                changed+=1\n",
    "                i -= 1\n",
    "            i += 1\n",
    "        return len(nums) - changed"
   ]
  },
  {
   "cell_type": "code",
   "execution_count": 13,
   "metadata": {},
   "outputs": [
    {
     "name": "stdout",
     "output_type": "stream",
     "text": [
      "0\n",
      "[0, 1, 2, 2, 3, 0, 4, 2]\n",
      "0\n",
      "1\n",
      "[0, 1, 2, 2, 3, 0, 4, 2]\n",
      "1\n",
      "2\n",
      "[0, 1, 2, 2, 3, 0, 4, '_']\n",
      "1\n",
      "2\n",
      "[0, 1, 4, 2, 3, 0, '_', '_']\n",
      "1\n",
      "4\n",
      "[0, 1, 4, 2, 3, 0, '_', '_']\n",
      "2\n",
      "2\n",
      "[0, 1, 4, 0, 3, '_', '_', '_']\n",
      "2\n",
      "0\n",
      "[0, 1, 4, 0, 3, '_', '_', '_']\n",
      "3\n",
      "3\n",
      "[0, 1, 4, 0, 3, '_', '_', '_']\n",
      "4\n",
      "_\n",
      "[0, 1, 4, 0, 3, '_', '_', '_']\n",
      "5\n",
      "_\n",
      "[0, 1, 4, 0, 3, '_', '_', '_']\n",
      "6\n",
      "_\n",
      "[0, 1, 4, 0, 3, '_', '_', '_']\n",
      "7\n"
     ]
    },
    {
     "data": {
      "text/plain": [
       "5"
      ]
     },
     "execution_count": 13,
     "metadata": {},
     "output_type": "execute_result"
    }
   ],
   "source": [
    "removeElement([0,1,2,2,3,0,4,2], 2)"
   ]
  }
 ],
 "metadata": {
  "kernelspec": {
   "display_name": "Python 3",
   "language": "python",
   "name": "python3"
  },
  "language_info": {
   "codemirror_mode": {
    "name": "ipython",
    "version": 3
   },
   "file_extension": ".py",
   "mimetype": "text/x-python",
   "name": "python",
   "nbconvert_exporter": "python",
   "pygments_lexer": "ipython3",
   "version": "3.9.6"
  },
  "orig_nbformat": 4,
  "vscode": {
   "interpreter": {
    "hash": "de0e203ef7e473aff7f39e62ea6b711a3fd9a6781169f839008b20faea9415fd"
   }
  }
 },
 "nbformat": 4,
 "nbformat_minor": 2
}

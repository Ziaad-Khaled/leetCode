{
 "cells": [
  {
   "cell_type": "code",
   "execution_count": 61,
   "metadata": {},
   "outputs": [],
   "source": [
    "from collections import OrderedDict\n",
    "#I, V, X, L, C, D and M\n",
    "def romanToInt(s):\n",
    "    sum = 0\n",
    "    switcher = OrderedDict()\n",
    "    switcher['I'] = 1\n",
    "    switcher['V'] = 5\n",
    "    switcher['X'] = 10\n",
    "    switcher['L'] = 50\n",
    "    switcher['C'] = 100\n",
    "    switcher['D'] = 500\n",
    "    switcher['M'] = 1000\n",
    "\n",
    "    new_value = switcher.get(s[0])\n",
    "    new_index = list(switcher.keys()).index(s[0])\n",
    "    for character in s[1:]:\n",
    "        old_value = new_value\n",
    "        old_index = new_index\n",
    "        \n",
    "        new_value = switcher.get(character)\n",
    "        new_index = list(switcher.keys()).index(character)\n",
    "        if new_index > old_index:\n",
    "            sum -= old_value\n",
    "        else:\n",
    "            sum += old_value\n",
    "    return sum + new_value\n"
   ]
  },
  {
   "cell_type": "code",
   "execution_count": 64,
   "metadata": {},
   "outputs": [
    {
     "data": {
      "text/plain": [
       "58"
      ]
     },
     "execution_count": 64,
     "metadata": {},
     "output_type": "execute_result"
    }
   ],
   "source": [
    "romanToInt(\"LVIII\")"
   ]
  }
 ],
 "metadata": {
  "kernelspec": {
   "display_name": "Python 3",
   "language": "python",
   "name": "python3"
  },
  "language_info": {
   "codemirror_mode": {
    "name": "ipython",
    "version": 3
   },
   "file_extension": ".py",
   "mimetype": "text/x-python",
   "name": "python",
   "nbconvert_exporter": "python",
   "pygments_lexer": "ipython3",
   "version": "3.9.6 (tags/v3.9.6:db3ff76, Jun 28 2021, 15:26:21) [MSC v.1929 64 bit (AMD64)]"
  },
  "orig_nbformat": 4,
  "vscode": {
   "interpreter": {
    "hash": "de0e203ef7e473aff7f39e62ea6b711a3fd9a6781169f839008b20faea9415fd"
   }
  }
 },
 "nbformat": 4,
 "nbformat_minor": 2
}

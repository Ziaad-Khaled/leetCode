{
 "cells": [
  {
   "cell_type": "code",
   "execution_count": null,
   "metadata": {},
   "outputs": [],
   "source": []
  },
  {
   "cell_type": "code",
   "execution_count": 3,
   "metadata": {},
   "outputs": [],
   "source": [
    "def soupServings(n: int) -> float:\n",
    "    memo = {}\n",
    "    def serve(A, B):\n",
    "        if (A,B) in memo:\n",
    "            return memo[(A,B)]\n",
    "        if A <= 0 and B <= 0:\n",
    "            return 0.5\n",
    "        if A <= 0:\n",
    "            return 1\n",
    "        if B <= 0:\n",
    "            return 0\n",
    "        \n",
    "        memo[(A,B)] = 0.25 * (serve(A-100, B) + serve(A-75, B-25) + serve(A-50, B-50) + serve(A-25, B-75))\n",
    "\n",
    "        return memo[(A,B)]\n",
    "    \n",
    "    return serve(n, n)"
   ]
  },
  {
   "cell_type": "code",
   "execution_count": 6,
   "metadata": {},
   "outputs": [
    {
     "name": "stdout",
     "output_type": "stream",
     "text": [
      "0.71875\n"
     ]
    }
   ],
   "source": [
    "print(soupServings(100))"
   ]
  }
 ],
 "metadata": {
  "kernelspec": {
   "display_name": "base",
   "language": "python",
   "name": "python3"
  },
  "language_info": {
   "codemirror_mode": {
    "name": "ipython",
    "version": 3
   },
   "file_extension": ".py",
   "mimetype": "text/x-python",
   "name": "python",
   "nbconvert_exporter": "python",
   "pygments_lexer": "ipython3",
   "version": "3.9.12"
  },
  "orig_nbformat": 4
 },
 "nbformat": 4,
 "nbformat_minor": 2
}

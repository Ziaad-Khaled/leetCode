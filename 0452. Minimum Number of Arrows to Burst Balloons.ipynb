{
 "cells": [
  {
   "cell_type": "code",
   "execution_count": 14,
   "metadata": {},
   "outputs": [],
   "source": [
    "def findIntersection(array1, array2):\n",
    "    start1, end1 = array1\n",
    "    start2, end2 = array2\n",
    "    start = max(start1, start2)\n",
    "    end = min(end1, end2)\n",
    "    if end < start:\n",
    "        return None\n",
    "    else:\n",
    "        return [start, end]"
   ]
  },
  {
   "cell_type": "code",
   "execution_count": 47,
   "metadata": {},
   "outputs": [],
   "source": [
    "def findMinArrowShots(points):\n",
    "    sorted_array = sorted(points, key=lambda x: x[0])\n",
    "    i = 0\n",
    "    counter = 1\n",
    "    while i < len(points) - 1:\n",
    "        intersection = findIntersection(sorted_array[i], sorted_array[i+1])\n",
    "        if intersection is None:\n",
    "            counter += 1\n",
    "        while intersection is not None:\n",
    "            i += 1\n",
    "            if i > len(points) - 2:\n",
    "                break\n",
    "            intersection = findIntersection(intersection, sorted_array[i+1])\n",
    "            if intersection is None:\n",
    "                counter += 1\n",
    "                break\n",
    "        i += 1\n",
    "    return counter"
   ]
  },
  {
   "cell_type": "code",
   "execution_count": 49,
   "metadata": {},
   "outputs": [
    {
     "data": {
      "text/plain": [
       "3"
      ]
     },
     "execution_count": 49,
     "metadata": {},
     "output_type": "execute_result"
    }
   ],
   "source": [
    "findMinArrowShots([[1,2],[2,3],[3,4],[4,5], [5,5]])"
   ]
  }
 ],
 "metadata": {
  "kernelspec": {
   "display_name": "Python 3",
   "language": "python",
   "name": "python3"
  },
  "language_info": {
   "codemirror_mode": {
    "name": "ipython",
    "version": 3
   },
   "file_extension": ".py",
   "mimetype": "text/x-python",
   "name": "python",
   "nbconvert_exporter": "python",
   "pygments_lexer": "ipython3",
   "version": "3.9.6"
  },
  "orig_nbformat": 4,
  "vscode": {
   "interpreter": {
    "hash": "de0e203ef7e473aff7f39e62ea6b711a3fd9a6781169f839008b20faea9415fd"
   }
  }
 },
 "nbformat": 4,
 "nbformat_minor": 2
}

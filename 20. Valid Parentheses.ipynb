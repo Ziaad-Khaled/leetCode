{
 "cells": [
  {
   "cell_type": "code",
   "execution_count": 28,
   "metadata": {},
   "outputs": [],
   "source": [
    "#It can also be solved using a stack\n",
    "from collections import OrderedDict\n",
    "def isValid(s):\n",
    "    stack = \"\"\n",
    "    switcher = {\n",
    "        ')':'(',\n",
    "        '}': '{',\n",
    "        ']': '['\n",
    "    }\n",
    "\n",
    "    for i,character in enumerate(s):\n",
    "        if character == '(' or character == '{' or character == '[':\n",
    "            stack+= character\n",
    "        elif character == ')' or character == '}' or character == ']':\n",
    "            if len(stack) > 0 and switcher.get(character) == stack[-1]:\n",
    "                stack = stack[:-1]\n",
    "            else:\n",
    "                return False\n",
    "\n",
    "        \n",
    "    return stack == \"\"\n",
    "        \n",
    "\n"
   ]
  },
  {
   "cell_type": "code",
   "execution_count": 29,
   "metadata": {},
   "outputs": [
    {
     "data": {
      "text/plain": [
       "True"
      ]
     },
     "execution_count": 29,
     "metadata": {},
     "output_type": "execute_result"
    }
   ],
   "source": [
    "isValid(\"()\")"
   ]
  }
 ],
 "metadata": {
  "kernelspec": {
   "display_name": "Python 3",
   "language": "python",
   "name": "python3"
  },
  "language_info": {
   "codemirror_mode": {
    "name": "ipython",
    "version": 3
   },
   "file_extension": ".py",
   "mimetype": "text/x-python",
   "name": "python",
   "nbconvert_exporter": "python",
   "pygments_lexer": "ipython3",
   "version": "3.9.6"
  },
  "orig_nbformat": 4,
  "vscode": {
   "interpreter": {
    "hash": "de0e203ef7e473aff7f39e62ea6b711a3fd9a6781169f839008b20faea9415fd"
   }
  }
 },
 "nbformat": 4,
 "nbformat_minor": 2
}

{
 "cells": [
  {
   "cell_type": "code",
   "execution_count": 17,
   "metadata": {},
   "outputs": [],
   "source": [
    "import math;\n",
    "def minimumRounds(tasks):\n",
    "    my_dict = {}\n",
    "    for task in tasks:\n",
    "        if task in my_dict:\n",
    "            my_dict[task] += 1\n",
    "        else:\n",
    "            my_dict[task] = 1\n",
    "\n",
    "    output = 0\n",
    "    for value in my_dict.values():\n",
    "        if value == 1: \n",
    "            return -1\n",
    "        else:\n",
    "            output += math.ceil(value/3)\n",
    "    return int(output)\n"
   ]
  },
  {
   "cell_type": "code",
   "execution_count": 18,
   "metadata": {},
   "outputs": [
    {
     "data": {
      "text/plain": [
       "3"
      ]
     },
     "execution_count": 18,
     "metadata": {},
     "output_type": "execute_result"
    }
   ],
   "source": [
    "minimumRounds([2,2,2,2,3,3,2,2])"
   ]
  }
 ],
 "metadata": {
  "kernelspec": {
   "display_name": "Python 3",
   "language": "python",
   "name": "python3"
  },
  "language_info": {
   "codemirror_mode": {
    "name": "ipython",
    "version": 3
   },
   "file_extension": ".py",
   "mimetype": "text/x-python",
   "name": "python",
   "nbconvert_exporter": "python",
   "pygments_lexer": "ipython3",
   "version": "3.9.6"
  },
  "orig_nbformat": 4,
  "vscode": {
   "interpreter": {
    "hash": "de0e203ef7e473aff7f39e62ea6b711a3fd9a6781169f839008b20faea9415fd"
   }
  }
 },
 "nbformat": 4,
 "nbformat_minor": 2
}

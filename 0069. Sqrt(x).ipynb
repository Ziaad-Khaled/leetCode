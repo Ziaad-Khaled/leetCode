{
 "cells": [
  {
   "cell_type": "code",
   "execution_count": 2,
   "metadata": {},
   "outputs": [],
   "source": [
    "import math\n",
    "def mySqrtHelper(x, output):\n",
    "    power_greater = output * output\n",
    "    power_smaller = (output -1) * (output - 1)\n",
    "    if x < power_greater and x >= power_smaller:\n",
    "        return math.floor(output - 1)\n",
    "    elif x == power_greater:\n",
    "        return math.floor(output)\n",
    "    elif x > power_greater:\n",
    "        output = (x - output) // 2\n",
    "        return mySqrtHelper(x, output)\n",
    "    elif x < power_smaller:\n",
    "        output = (output) // 2\n",
    "        return mySqrtHelper(x, output)\n",
    "    return 1"
   ]
  },
  {
   "cell_type": "code",
   "execution_count": 3,
   "metadata": {},
   "outputs": [],
   "source": [
    "def mySqrt(x):\n",
    "    return mySqrtHelper(x, x//2)"
   ]
  },
  {
   "cell_type": "code",
   "execution_count": null,
   "metadata": {},
   "outputs": [
    {
     "ename": "",
     "evalue": "",
     "output_type": "error",
     "traceback": [
      "\u001b[1;31mCanceled future for execute_request message before replies were done"
     ]
    },
    {
     "ename": "",
     "evalue": "",
     "output_type": "error",
     "traceback": [
      "\u001b[1;31mThe Kernel crashed while executing code in the the current cell or a previous cell. Please review the code in the cell(s) to identify a possible cause of the failure. Click <a href='https://aka.ms/vscodeJupyterKernelCrash'>here</a> for more info. View Jupyter <a href='command:jupyter.viewOutput'>log</a> for further details."
     ]
    }
   ],
   "source": [
    "print(mySqrt(15))"
   ]
  }
 ],
 "metadata": {
  "kernelspec": {
   "display_name": "Python 3",
   "language": "python",
   "name": "python3"
  },
  "language_info": {
   "codemirror_mode": {
    "name": "ipython",
    "version": 3
   },
   "file_extension": ".py",
   "mimetype": "text/x-python",
   "name": "python",
   "nbconvert_exporter": "python",
   "pygments_lexer": "ipython3",
   "version": "3.9.6 (tags/v3.9.6:db3ff76, Jun 28 2021, 15:26:21) [MSC v.1929 64 bit (AMD64)]"
  },
  "orig_nbformat": 4,
  "vscode": {
   "interpreter": {
    "hash": "de0e203ef7e473aff7f39e62ea6b711a3fd9a6781169f839008b20faea9415fd"
   }
  }
 },
 "nbformat": 4,
 "nbformat_minor": 2
}

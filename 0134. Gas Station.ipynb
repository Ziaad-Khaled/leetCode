{
 "cells": [
  {
   "cell_type": "code",
   "execution_count": 37,
   "metadata": {},
   "outputs": [],
   "source": [
    "def canCompleteCircuit2(gas, cost):\n",
    "    n = len(gas)\n",
    "    for i in range(n):\n",
    "        remaining = 0\n",
    "        for j in range(n):\n",
    "            k = (i + j) % n\n",
    "            remaining += gas[k] - cost[k]\n",
    "            if remaining < 0:\n",
    "                break\n",
    "        else:\n",
    "            return i\n",
    "    return -1"
   ]
  },
  {
   "cell_type": "code",
   "execution_count": 19,
   "metadata": {},
   "outputs": [],
   "source": [
    "def canCompleteCircuit(gas, cost):\n",
    "    difference = [a - b for a, b in zip(gas, cost)]\n",
    "    if sum(difference) < 0:\n",
    "        return -1\n",
    "\n",
    "    longest_sum_start = 0\n",
    "    longest_sum_end = 0\n",
    "    current_sum_start = 0\n",
    "    current_sum = 0\n",
    "    longest_sum = 0\n",
    "    \n",
    "    for i, element in enumerate(difference):\n",
    "        if element > 0:\n",
    "            current_sum += element\n",
    "            if current_sum > longest_sum:\n",
    "                longest_sum = current_sum\n",
    "                longest_sum_start = current_sum_start\n",
    "        else:\n",
    "            current_sum = 0\n",
    "            current_sum_start = i + 1\n",
    "\n",
    "    j = longest_sum_start\n",
    "    tank = 0\n",
    "    while j < len(difference):\n",
    "            tank += difference[j]\n",
    "            if tank < 0:\n",
    "                break\n",
    "            j += 1\n",
    "    j = 0\n",
    "    while j < longest_sum_start:\n",
    "        tank += difference[j]\n",
    "        if tank < 0:\n",
    "            break\n",
    "        j += 1\n",
    "    if tank >= 0:\n",
    "        return i\n",
    "\n",
    "    return -1"
   ]
  },
  {
   "cell_type": "code",
   "execution_count": 40,
   "metadata": {},
   "outputs": [
    {
     "data": {
      "text/plain": [
       "74"
      ]
     },
     "execution_count": 40,
     "metadata": {},
     "output_type": "execute_result"
    }
   ],
   "source": [
    "gas = [67,68,69,70,71,72,73,74,75,76,77,78,79,80,81,82,83,84,85,86,87,88,89,90,91,92,93,94,95,96,97,98,99,100,1,2,3,4,5,6,7,8,9,10,11,12,13,14,15,16,17,18,19,20,21,22,23,24,25,26,27,28,29,30,31,32,33,34,35,36,37,38,39,40,41,42,43,44,45,46,47,48,49,50,51,52,53,54,55,56,57,58,59,60,61,62,63,64,65,66]\n",
    "cost = [27,28,29,30,31,32,33,34,35,36,37,38,39,40,41,42,43,44,45,46,47,48,49,50,51,52,53,54,55,56,57,58,59,60,61,62,63,64,65,66,67,68,69,70,71,72,73,74,75,76,77,78,79,80,81,82,83,84,85,86,87,88,89,90,91,92,93,94,95,96,97,98,99,100,1,2,3,4,5,6,7,8,9,10,11,12,13,14,15,16,17,18,19,20,21,22,23,24,25,26]\n",
    "difference = [a - b for a, b in zip(gas, cost)]\n",
    "canCompleteCircuit2(gas, cost)"
   ]
  },
  {
   "cell_type": "code",
   "execution_count": 23,
   "metadata": {},
   "outputs": [
    {
     "data": {
      "text/plain": [
       "[40,\n",
       " 40,\n",
       " 40,\n",
       " 40,\n",
       " 40,\n",
       " 40,\n",
       " 40,\n",
       " 40,\n",
       " 40,\n",
       " 40,\n",
       " 40,\n",
       " 40,\n",
       " 40,\n",
       " 40,\n",
       " 40,\n",
       " 40,\n",
       " 40,\n",
       " 40,\n",
       " 40,\n",
       " 40,\n",
       " 40,\n",
       " 40,\n",
       " 40,\n",
       " 40,\n",
       " 40,\n",
       " 40,\n",
       " 40,\n",
       " 40,\n",
       " 40,\n",
       " 40,\n",
       " 40,\n",
       " 40,\n",
       " 40,\n",
       " 40,\n",
       " -60,\n",
       " -60,\n",
       " -60,\n",
       " -60,\n",
       " -60,\n",
       " -60,\n",
       " -60,\n",
       " -60,\n",
       " -60,\n",
       " -60,\n",
       " -60,\n",
       " -60,\n",
       " -60,\n",
       " -60,\n",
       " -60,\n",
       " -60,\n",
       " -60,\n",
       " -60,\n",
       " -60,\n",
       " -60,\n",
       " -60,\n",
       " -60,\n",
       " -60,\n",
       " -60,\n",
       " -60,\n",
       " -60,\n",
       " -60,\n",
       " -60,\n",
       " -60,\n",
       " -60,\n",
       " -60,\n",
       " -60,\n",
       " -60,\n",
       " -60,\n",
       " -60,\n",
       " -60,\n",
       " -60,\n",
       " -60,\n",
       " -60,\n",
       " -60,\n",
       " 40,\n",
       " 40,\n",
       " 40,\n",
       " 40,\n",
       " 40,\n",
       " 40,\n",
       " 40,\n",
       " 40,\n",
       " 40,\n",
       " 40,\n",
       " 40,\n",
       " 40,\n",
       " 40,\n",
       " 40,\n",
       " 40,\n",
       " 40,\n",
       " 40,\n",
       " 40,\n",
       " 40,\n",
       " 40,\n",
       " 40,\n",
       " 40,\n",
       " 40,\n",
       " 40,\n",
       " 40,\n",
       " 40]"
      ]
     },
     "execution_count": 23,
     "metadata": {},
     "output_type": "execute_result"
    }
   ],
   "source": [
    "difference"
   ]
  },
  {
   "cell_type": "code",
   "execution_count": 39,
   "metadata": {},
   "outputs": [
    {
     "data": {
      "text/plain": [
       "3"
      ]
     },
     "execution_count": 39,
     "metadata": {},
     "output_type": "execute_result"
    }
   ],
   "source": [
    "canCompleteCircuit2([1,2,3,4,5], [3,4,5,1,2])"
   ]
  }
 ],
 "metadata": {
  "kernelspec": {
   "display_name": "Python 3",
   "language": "python",
   "name": "python3"
  },
  "language_info": {
   "codemirror_mode": {
    "name": "ipython",
    "version": 3
   },
   "file_extension": ".py",
   "mimetype": "text/x-python",
   "name": "python",
   "nbconvert_exporter": "python",
   "pygments_lexer": "ipython3",
   "version": "3.9.6"
  },
  "orig_nbformat": 4,
  "vscode": {
   "interpreter": {
    "hash": "de0e203ef7e473aff7f39e62ea6b711a3fd9a6781169f839008b20faea9415fd"
   }
  }
 },
 "nbformat": 4,
 "nbformat_minor": 2
}

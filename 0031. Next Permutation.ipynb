{
 "cells": [
  {
   "cell_type": "code",
   "execution_count": 1,
   "metadata": {},
   "outputs": [],
   "source": [
    "from typing import List"
   ]
  },
  {
   "cell_type": "code",
   "execution_count": 82,
   "metadata": {},
   "outputs": [],
   "source": [
    "def nextPermutation(nums: List[int]) -> None:\n",
    "    i = j = len(nums)-1\n",
    "    while i>0:\n",
    "        if nums[i-1] < nums[i]:\n",
    "            break\n",
    "        i -= 1\n",
    "\n",
    "    if i == 0:\n",
    "        nums.reverse()\n",
    "        return nums\n",
    "    \n",
    "    while nums[j] <= nums[i-1]:\n",
    "            j -= 1\n",
    "    \n",
    "    nums[i-1], nums[j] = nums[j], nums[i-1]\n",
    "\n",
    "    nums[i:]= nums[len(nums)-1:i-1:-1]\n",
    "\n",
    "    return nums \n",
    "    \n",
    "    "
   ]
  },
  {
   "cell_type": "code",
   "execution_count": null,
   "metadata": {},
   "outputs": [],
   "source": [
    "    "
   ]
  },
  {
   "cell_type": "code",
   "execution_count": 83,
   "metadata": {},
   "outputs": [
    {
     "data": {
      "text/plain": [
       "[2, 1, 3]"
      ]
     },
     "execution_count": 83,
     "metadata": {},
     "output_type": "execute_result"
    }
   ],
   "source": [
    "nextPermutation([1,3,2])"
   ]
  }
 ],
 "metadata": {
  "kernelspec": {
   "display_name": "base",
   "language": "python",
   "name": "python3"
  },
  "language_info": {
   "codemirror_mode": {
    "name": "ipython",
    "version": 3
   },
   "file_extension": ".py",
   "mimetype": "text/x-python",
   "name": "python",
   "nbconvert_exporter": "python",
   "pygments_lexer": "ipython3",
   "version": "3.9.13"
  },
  "orig_nbformat": 4
 },
 "nbformat": 4,
 "nbformat_minor": 2
}

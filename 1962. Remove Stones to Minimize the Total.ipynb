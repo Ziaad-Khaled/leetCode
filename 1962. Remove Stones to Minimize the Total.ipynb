{
 "cells": [
  {
   "cell_type": "code",
   "execution_count": 36,
   "metadata": {},
   "outputs": [],
   "source": [
    "import math\n",
    "import heapq\n",
    "def minStoneSum(piles, k):\n",
    "    # Create a max heap by storing negative values\n",
    "    max_heap = [-x for x in piles]\n",
    "\n",
    "    # Create a min heap from the max heap\n",
    "    heapq.heapify(max_heap)\n",
    "    \n",
    "    while k > 0:\n",
    "        largest = heapq.heappop(max_heap)\n",
    "        floored = largest // 2\n",
    "        heapq.heappush(max_heap, floored)\n",
    "        k -= 1\n",
    "\n",
    "    return int(-sum(max_heap))\n"
   ]
  },
  {
   "cell_type": "code",
   "execution_count": 37,
   "metadata": {},
   "outputs": [
    {
     "data": {
      "text/plain": [
       "12"
      ]
     },
     "execution_count": 37,
     "metadata": {},
     "output_type": "execute_result"
    }
   ],
   "source": [
    "minStoneSum([4,3,6,7], 3)"
   ]
  }
 ],
 "metadata": {
  "kernelspec": {
   "display_name": "base",
   "language": "python",
   "name": "python3"
  },
  "language_info": {
   "codemirror_mode": {
    "name": "ipython",
    "version": 3
   },
   "file_extension": ".py",
   "mimetype": "text/x-python",
   "name": "python",
   "nbconvert_exporter": "python",
   "pygments_lexer": "ipython3",
   "version": "3.9.12"
  },
  "orig_nbformat": 4,
  "vscode": {
   "interpreter": {
    "hash": "b6cb3eed22df4627d56e8f4636dde4254ca6cf3ba2a6f7035fabb12fe7b8bfdb"
   }
  }
 },
 "nbformat": 4,
 "nbformat_minor": 2
}

{
 "cells": [
  {
   "cell_type": "code",
   "execution_count": 1,
   "metadata": {},
   "outputs": [],
   "source": [
    "class ListNode:\n",
    "     def __init__(self, val=0, next=None):\n",
    "         self.val = val\n",
    "         self.next = next"
   ]
  },
  {
   "cell_type": "code",
   "execution_count": 2,
   "metadata": {},
   "outputs": [],
   "source": [
    "from typing import Optional\n",
    "import copy"
   ]
  },
  {
   "cell_type": "code",
   "execution_count": 32,
   "metadata": {},
   "outputs": [],
   "source": [
    "def removeNthFromEnd(head: Optional[ListNode], n: int) -> Optional[ListNode]:\n",
    "    i = -1\n",
    "    head_copy = copy.deepcopy(head)\n",
    "    while head_copy != None:\n",
    "        head_copy = head_copy.next\n",
    "        i+=1\n",
    "    head_copy = head\n",
    "    next_head = head.next\n",
    "\n",
    "    if i == n-1:\n",
    "        if head.next == None:\n",
    "            head = None\n",
    "        else:\n",
    "            head = head.next\n",
    "            \n",
    "    while i > n:\n",
    "        head_copy = head_copy.next\n",
    "        next_head = next_head.next\n",
    "        i-=1\n",
    "        \n",
    "    if next_head != None:\n",
    "        head_copy.next = next_head.next\n",
    "    return head"
   ]
  },
  {
   "cell_type": "code",
   "execution_count": 43,
   "metadata": {},
   "outputs": [],
   "source": [
    "l1 = ListNode(1)\n",
    "l2 = ListNode(2)\n",
    "l3 = ListNode(3)\n",
    "l4 = ListNode(4)\n",
    "l5 = ListNode(5)\n",
    "l1.next = l2\n",
    "l2.next = l3\n",
    "l3.next = l4\n",
    "l4.next = l5"
   ]
  },
  {
   "cell_type": "code",
   "execution_count": 44,
   "metadata": {},
   "outputs": [
    {
     "name": "stdout",
     "output_type": "stream",
     "text": [
      "1\n",
      "2\n",
      "3\n",
      "4\n"
     ]
    }
   ],
   "source": [
    "head = removeNthFromEnd(l1, 1)\n",
    "while head != None:\n",
    "    print(head.val)\n",
    "    head = head.next\n"
   ]
  }
 ],
 "metadata": {
  "kernelspec": {
   "display_name": "base",
   "language": "python",
   "name": "python3"
  },
  "language_info": {
   "codemirror_mode": {
    "name": "ipython",
    "version": 3
   },
   "file_extension": ".py",
   "mimetype": "text/x-python",
   "name": "python",
   "nbconvert_exporter": "python",
   "pygments_lexer": "ipython3",
   "version": "3.9.12"
  },
  "orig_nbformat": 4
 },
 "nbformat": 4,
 "nbformat_minor": 2
}
